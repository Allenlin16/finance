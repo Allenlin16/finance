{
  "nbformat": 4,
  "nbformat_minor": 0,
  "metadata": {
    "colab": {
      "provenance": []
    },
    "kernelspec": {
      "name": "python3",
      "display_name": "Python 3"
    },
    "language_info": {
      "name": "python"
    }
  },
  "cells": [
    {
      "cell_type": "markdown",
      "source": [
        "#引入所需套件"
      ],
      "metadata": {
        "id": "w8AKRNF_5n89"
      }
    },
    {
      "cell_type": "code",
      "source": [
        "import requests\n",
        "import pandas as pd\n",
        "from bs4 import BeautifulSoup\n",
        "from datetime import datetime"
      ],
      "metadata": {
        "id": "hBcC04_o5rFe"
      },
      "execution_count": null,
      "outputs": []
    },
    {
      "cell_type": "markdown",
      "source": [
        "#證交所api連線"
      ],
      "metadata": {
        "id": "8YU9SDmbvg0f"
      }
    },
    {
      "cell_type": "code",
      "source": [
        "# 將日期從民國年轉換為西元年\n",
        "def convert_roc_to_ad(date_str):\n",
        "    try:\n",
        "        parts = date_str.split('/')\n",
        "        roc_year = int(parts[0])\n",
        "        ad_year = roc_year + 1911  # 將民國年轉換為西元年\n",
        "        return f'{ad_year}/{parts[1]}/{parts[2]}'\n",
        "    except Exception as e:\n",
        "        print(f\"日期轉換錯誤: {date_str}, {e}\")\n",
        "        return date_str\n",
        "\n",
        "# 從台灣證交所爬取當日股票資料\n",
        "def get_tse_stock_price(stock_id):\n",
        "    try:\n",
        "        url = f'https://www.twse.com.tw/exchangeReport/STOCK_DAY?response=json&date={datetime.now().strftime(\"%Y%m%d\")}&stockNo={stock_id}'\n",
        "        response = requests.get(url)\n",
        "        response.raise_for_status()  # 檢查請求是否成功\n",
        "        data = response.json()\n",
        "\n",
        "        # 確認回傳數據中是否包含有效數據\n",
        "        if 'data' not in data or not data['data']:\n",
        "            print(f\"無法獲取 {stock_id} 的數據。\")\n",
        "            return pd.DataFrame()\n",
        "\n",
        "        # 將數據轉換為 DataFrame\n",
        "        title=data['title']\n",
        "        df = pd.DataFrame(data['data'], columns=data['fields'])\n",
        "        df['日期'] = df['日期'].apply(convert_roc_to_ad)\n",
        "        df['日期'] = pd.to_datetime(df['日期'], format='%Y/%m/%d', errors='coerce')  # 加入錯誤處理\n",
        "\n",
        "        return df,title\n",
        "\n",
        "    except requests.exceptions.RequestException as e:\n",
        "        print(f\"網路請求錯誤: {e}\")\n",
        "        return pd.DataFrame()\n",
        "\n",
        "\n",
        "stock_id = '2330'\n",
        "tse_df,title = get_tse_stock_price(stock_id)\n",
        "print(f'{title}\\n')\n",
        "print(tse_df.to_markdown())"
      ],
      "metadata": {
        "colab": {
          "base_uri": "https://localhost:8080/"
        },
        "id": "0xc_cx71wVrz",
        "outputId": "dbbecb61-af02-4f77-a172-b36ded0e07df"
      },
      "execution_count": null,
      "outputs": [
        {
          "output_type": "stream",
          "name": "stdout",
          "text": [
            "113年09月 2330 台積電           各日成交資訊\n",
            "\n",
            "|    | 日期                | 成交股數   | 成交金額       |   開盤價 |   最高價 |   最低價 |   收盤價 | 漲跌價差   | 成交筆數   |\n",
            "|---:|:--------------------|:-----------|:---------------|---------:|---------:|---------:|---------:|:-----------|:-----------|\n",
            "|  0 | 2024-09-02 00:00:00 | 19,272,593 | 18,270,058,260 |      950 |      955 |      943 |      948 | +4.00      | 31,642     |\n",
            "|  1 | 2024-09-03 00:00:00 | 23,205,623 | 21,908,471,541 |      948 |      952 |      939 |      940 | -8.00      | 47,139     |\n",
            "|  2 | 2024-09-04 00:00:00 | 93,169,835 | 83,424,133,824 |      894 |      905 |      888 |      889 | -51.00     | 393,210    |\n",
            "|  3 | 2024-09-05 00:00:00 | 34,147,890 | 30,998,595,394 |      907 |      915 |      900 |      902 | +13.00     | 63,902     |\n",
            "|  4 | 2024-09-06 00:00:00 | 28,248,063 | 25,786,016,936 |      909 |      918 |      903 |      918 | +16.00     | 38,415     |\n",
            "|  5 | 2024-09-09 00:00:00 | 38,448,946 | 34,456,838,126 |      892 |      900 |      891 |      899 | -19.00     | 102,365    |\n",
            "|  6 | 2024-09-10 00:00:00 | 34,312,646 | 31,067,424,234 |      907 |      911 |      901 |      904 | +5.00      | 45,141     |\n",
            "|  7 | 2024-09-11 00:00:00 | 19,513,256 | 17,621,000,956 |      906 |      906 |      900 |      901 | -3.00      | 30,789     |\n",
            "|  8 | 2024-09-12 00:00:00 | 43,749,260 | 40,999,951,508 |      936 |      944 |      928 |      940 | X0.00      | 80,643     |\n",
            "|  9 | 2024-09-13 00:00:00 | 28,307,441 | 26,795,862,243 |      955 |      955 |      939 |      947 | +7.00      | 39,071     |\n",
            "| 10 | 2024-09-16 00:00:00 | 14,456,888 | 13,692,259,575 |      952 |      952 |      943 |      947 | 0.00       | 26,421     |\n",
            "| 11 | 2024-09-18 00:00:00 | 30,094,662 | 28,303,054,525 |      945 |      948 |      933 |      941 | -6.00      | 46,622     |\n",
            "| 12 | 2024-09-19 00:00:00 | 35,254,383 | 33,482,773,635 |      940 |      960 |      936 |      960 | +19.00     | 53,494     |\n",
            "| 13 | 2024-09-20 00:00:00 | 66,762,167 | 65,105,344,444 |      981 |      982 |      971 |      973 | +13.00     | 67,911     |\n",
            "| 14 | 2024-09-23 00:00:00 | 15,399,658 | 15,013,916,758 |      971 |      977 |      971 |      977 | +4.00      | 26,106     |\n",
            "| 15 | 2024-09-24 00:00:00 | 29,324,170 | 28,726,805,585 |      976 |      987 |      971 |      987 | +10.00     | 63,433     |\n"
          ]
        }
      ]
    },
    {
      "cell_type": "markdown",
      "source": [
        "#Yahoo 奇摩"
      ],
      "metadata": {
        "id": "VgmoZHvcxg__"
      }
    },
    {
      "cell_type": "code",
      "source": [
        "# 爬取 Yahoo 奇摩股價資料\n",
        "def get_yahoo_stock_price(stock_id):\n",
        "    url = f\"https://tw.stock.yahoo.com/quote/{stock_id}.TW\"\n",
        "\n",
        "    # 發送請求，獲取 HTML 內容\n",
        "    response = requests.get(url)\n",
        "\n",
        "    # 檢查請求是否成功\n",
        "    if response.status_code != 200:\n",
        "        print(f\"無法獲取 {stock_id} 的數據。\")\n",
        "        return pd.DataFrame()\n",
        "\n",
        "    # 使用 BeautifulSoup 解析 HTML\n",
        "    soup = BeautifulSoup(response.text, \"html.parser\")\n",
        "    # 查找當前股價的元素（需要根據實際的 Yahoo 股價頁面 HTML 結構調整）\n",
        "    price_tag = soup.find('span', {'class': 'Fz(32px)'})\n",
        "    titleNum_tag = soup.find('span', {'class': 'Fz(24px)'})\n",
        "    titleTxt_tag = soup.find('h1', {'class': 'Fz(24px)'})\n",
        "    if price_tag and titleNum_tag and titleTxt_tag:\n",
        "        current_price = price_tag.text\n",
        "        print(f\"個股: {titleTxt_tag.text}({titleNum_tag.text})\")\n",
        "        print(f\"目前股價: {current_price}\")\n",
        "    else:\n",
        "        print(f\"無法在頁面中找到 {stock_id} 的股價資料。\")\n",
        "        return pd.DataFrame()\n",
        "\n",
        "    # 查找表格中的數據\n",
        "    tables = soup.find_all('li', {'class': 'price-detail-item'})\n",
        "\n",
        "    # 檢查是否有找到表格\n",
        "    if not tables:\n",
        "        print(f\"無法在頁面中找到 {stock_id} 的股價資料。\")\n",
        "        return pd.DataFrame()\n",
        "\n",
        "    # 儲存數據的字典\n",
        "    stock_data = {}\n",
        "\n",
        "    # 遍歷每個表格來提取相關數據\n",
        "    for table in tables:\n",
        "        spans = table.find_all('span')\n",
        "        if len(spans) == 2:\n",
        "            key = spans[0].text.strip()  # 第一個 span 作為鍵\n",
        "            value = spans[1].text.strip()  # 第二個 span 作為值\n",
        "            stock_data[key] = value\n",
        "\n",
        "    # 打印提取出的數據\n",
        "    for key, value in stock_data.items():\n",
        "        print(f\"{key}: {value}\")\n",
        "\n",
        "    # 將數據轉換為 DataFrame\n",
        "    df = pd.DataFrame(list(stock_data.items()), columns=['項目', '數值'])\n",
        "\n",
        "    return df\n",
        "\n",
        "stock_id = '2330'\n",
        "yahoo_df = get_yahoo_stock_price(stock_id)\n"
      ],
      "metadata": {
        "colab": {
          "base_uri": "https://localhost:8080/"
        },
        "id": "iyv23PCZxoSg",
        "outputId": "20f3739a-71a1-413a-c805-7080c7e65dd3"
      },
      "execution_count": 59,
      "outputs": [
        {
          "output_type": "stream",
          "name": "stdout",
          "text": [
            "個股: 台積電(2330)\n",
            "目前股價: 987\n",
            "成交: 987\n",
            "開盤: 976\n",
            "最高: 987\n",
            "最低: 971\n",
            "均價: 979\n",
            "成交金額(億): 261.37\n",
            "昨收: 977\n",
            "總量: 26,678\n",
            "昨量: 14,456\n",
            "振幅: 1.64%\n"
          ]
        }
      ]
    }
  ]
}